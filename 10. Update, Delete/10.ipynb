{
 "cells": [
  {
   "cell_type": "code",
   "execution_count": null,
   "metadata": {},
   "outputs": [],
   "source": [
    "# update table_name set column_name value where conditions\n",
    "!update person set first_name = 'NguyenLC' where id = 1;\n",
    "\n",
    "# not where: update all first_name to 'NguyenLC'"
   ]
  },
  {
   "cell_type": "code",
   "execution_count": null,
   "metadata": {},
   "outputs": [],
   "source": [
    "# display updated row\n",
    "!update person set first_name = 'Nguyen Le' where id = 2 returning *;"
   ]
  },
  {
   "cell_type": "code",
   "execution_count": null,
   "metadata": {},
   "outputs": [],
   "source": [
    "# delete from table_name where conditions\n",
    "!delete from person where id = 2;\n",
    "\n",
    "# not where: delete all row, not delete table"
   ]
  },
  {
   "cell_type": "code",
   "execution_count": null,
   "metadata": {},
   "outputs": [],
   "source": [
    "# display deleted row\n",
    "!delete from person where id = 2 returning *;"
   ]
  }
 ],
 "metadata": {
  "language_info": {
   "name": "python"
  },
  "orig_nbformat": 4
 },
 "nbformat": 4,
 "nbformat_minor": 2
}
