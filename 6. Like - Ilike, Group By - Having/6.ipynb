{
 "cells": [
  {
   "cell_type": "code",
   "execution_count": null,
   "metadata": {},
   "outputs": [],
   "source": [
    "# like\n",
    "!select 'abc' like 'a%'  # true\n",
    "!select 'abc' like 'A%'  # false \n",
    "!select 'abc' like '_b_' # true\n",
    "!select 'abcd' like '_b_'  # fasle\n",
    "!selct 'abcd' like '%b%'  # true\n",
    "!select 'abcd' like '_b__'  # true"
   ]
  },
  {
   "cell_type": "code",
   "execution_count": null,
   "metadata": {},
   "outputs": [],
   "source": [
    "# ilike\n",
    "!select 'abc' ilike 'A%'  # true"
   ]
  },
  {
   "cell_type": "code",
   "execution_count": null,
   "metadata": {},
   "outputs": [],
   "source": [
    "!select * from person where email like '%.com';"
   ]
  },
  {
   "cell_type": "code",
   "execution_count": null,
   "metadata": {},
   "outputs": [],
   "source": [
    "# group by\n",
    "!select gender, count(*) from person where id >= 10 group by gender order by gender asc;\n",
    "!select gender, count(*) from person group by gender where id >= 10 order by gender asc;  # error"
   ]
  },
  {
   "cell_type": "code",
   "execution_count": null,
   "metadata": {},
   "outputs": [],
   "source": [
    "!select gender, count(*) from person group by gender where count(*) >= 5;  # error"
   ]
  },
  {
   "cell_type": "code",
   "execution_count": null,
   "metadata": {},
   "outputs": [],
   "source": [
    "# having\n",
    "!select gender, count(*) from person group by gender having count(*) >= 5;"
   ]
  }
 ],
 "metadata": {
  "language_info": {
   "name": "python"
  },
  "orig_nbformat": 4
 },
 "nbformat": 4,
 "nbformat_minor": 2
}
