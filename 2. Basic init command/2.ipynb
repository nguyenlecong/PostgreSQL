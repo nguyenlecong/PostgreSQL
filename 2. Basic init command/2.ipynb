{
 "cells": [
  {
   "cell_type": "code",
   "execution_count": null,
   "metadata": {},
   "outputs": [],
   "source": [
    "# login\n",
    "!sudo -u postgres psql"
   ]
  },
  {
   "cell_type": "code",
   "execution_count": null,
   "metadata": {},
   "outputs": [],
   "source": [
    "# list db\n",
    "!\\l"
   ]
  },
  {
   "cell_type": "code",
   "execution_count": null,
   "metadata": {},
   "outputs": [],
   "source": [
    "# help\n",
    "!\\h"
   ]
  },
  {
   "cell_type": "code",
   "execution_count": null,
   "metadata": {},
   "outputs": [],
   "source": [
    "# quit\n",
    "!\\q"
   ]
  },
  {
   "cell_type": "code",
   "execution_count": null,
   "metadata": {},
   "outputs": [],
   "source": [
    "# create db\n",
    "!CREATE DATABASE test;"
   ]
  },
  {
   "cell_type": "code",
   "execution_count": null,
   "metadata": {},
   "outputs": [],
   "source": [
    "# connect db\n",
    "!\\c test"
   ]
  },
  {
   "cell_type": "code",
   "execution_count": null,
   "metadata": {},
   "outputs": [],
   "source": [
    "# create table\n",
    "# column_name + data_type + constraints\n",
    "!CREATE TABLE person(id int, name VARCHAR(30));"
   ]
  },
  {
   "cell_type": "code",
   "execution_count": null,
   "metadata": {},
   "outputs": [],
   "source": [
    "# list table\n",
    "!\\d"
   ]
  },
  {
   "cell_type": "code",
   "execution_count": null,
   "metadata": {},
   "outputs": [],
   "source": [
    "# delete table\n",
    "!DROP TABLE person;"
   ]
  },
  {
   "cell_type": "code",
   "execution_count": null,
   "metadata": {},
   "outputs": [],
   "source": [
    "# create table with constraints\n",
    "!CREATE TABLE person( \\\n",
    "id BIGSERIAL NOT NULL PRIMARY KEY, \\\n",
    "first_name VARCHAR(60) NOT NULL, \\\n",
    "last_name VARCHAR(60) NOT NULL, \\\n",
    "gender VARCHAR(7) NOT NULL, \\\n",
    "date_of_birth DATE NOT NULL, \\\n",
    "country VARCHAR(50) NOT NULL \\\n",
    ");"
   ]
  },
  {
   "cell_type": "code",
   "execution_count": null,
   "metadata": {},
   "outputs": [],
   "source": [
    "# insert\n",
    "!INSERT INTO person (first_name, last_name, gender, date_of_birth, country) \\\n",
    "    VALUES ('Nguyen', 'LC', 'Male', '11-11-1999', 'VN');"
   ]
  },
  {
   "cell_type": "code",
   "execution_count": null,
   "metadata": {},
   "outputs": [],
   "source": [
    "# query\n",
    "!SELECT * FROM person;"
   ]
  },
  {
   "cell_type": "code",
   "execution_count": 1,
   "metadata": {},
   "outputs": [
    {
     "name": "stdout",
     "output_type": "stream",
     "text": [
      "/home/nguyenlc/Documents/nguyenlc/my_github/PostgreSQL/2. Basic init command\n"
     ]
    }
   ],
   "source": [
    "# create db and insert from mockaroo sql file\n",
    "!\\i person.sql"
   ]
  }
 ],
 "metadata": {
  "kernelspec": {
   "display_name": "base",
   "language": "python",
   "name": "python3"
  },
  "language_info": {
   "codemirror_mode": {
    "name": "ipython",
    "version": 3
   },
   "file_extension": ".py",
   "mimetype": "text/x-python",
   "name": "python",
   "nbconvert_exporter": "python",
   "pygments_lexer": "ipython3",
   "version": "3.9.13"
  },
  "orig_nbformat": 4
 },
 "nbformat": 4,
 "nbformat_minor": 2
}
