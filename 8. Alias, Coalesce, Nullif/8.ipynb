{
 "cells": [
  {
   "cell_type": "code",
   "execution_count": null,
   "metadata": {},
   "outputs": [],
   "source": [
    "# alias\n",
    "!select make as hang_sx, model as \"loai xe\" from cars;"
   ]
  },
  {
   "cell_type": "code",
   "execution_count": null,
   "metadata": {},
   "outputs": [],
   "source": [
    "!select make, model, price*90/100 as \"giam gia 10%\" from cars limit 5;"
   ]
  },
  {
   "cell_type": "code",
   "execution_count": null,
   "metadata": {},
   "outputs": [],
   "source": [
    "# coalesce: return first value which is not null\n",
    "!select coalesce(null, null, 11, 9, null, 5, null, 1);  # 11"
   ]
  },
  {
   "cell_type": "code",
   "execution_count": null,
   "metadata": {},
   "outputs": [],
   "source": [
    "!select coalesce(null, 'Hi', 6);  # error"
   ]
  },
  {
   "cell_type": "code",
   "execution_count": null,
   "metadata": {},
   "outputs": [],
   "source": [
    "!select coalesce(email, 'have not email!') from person;"
   ]
  },
  {
   "cell_type": "code",
   "execution_count": null,
   "metadata": {},
   "outputs": [],
   "source": [
    "# nullif: return first value if two of args are not equal else null\n",
    "!select nullif(null, null);  # null\n",
    "!select nullif(null, 10);  # null\n",
    "!select nullif(10, null);  # 10\n",
    "!select nullif(10, 10);  # null\n",
    "!select nullif(10, 10, 10);  # error"
   ]
  },
  {
   "cell_type": "code",
   "execution_count": null,
   "metadata": {},
   "outputs": [],
   "source": [
    "!select nullif(0, 5/null);  # 0"
   ]
  }
 ],
 "metadata": {
  "language_info": {
   "name": "python"
  },
  "orig_nbformat": 4
 },
 "nbformat": 4,
 "nbformat_minor": 2
}
