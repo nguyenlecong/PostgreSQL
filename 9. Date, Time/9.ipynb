{
 "cells": [
  {
   "cell_type": "code",
   "execution_count": null,
   "metadata": {},
   "outputs": [],
   "source": [
    "!select now()::date;\n",
    "!select now()::time;\n",
    "\n",
    "!select now()::year;  # error\n",
    "# ->\n",
    "!select extract(year from now());\n",
    "\n",
    "!select extract(month from now());\n",
    "!select extract(day from now());\n",
    "!select extract(century from now());"
   ]
  },
  {
   "cell_type": "code",
   "execution_count": null,
   "metadata": {},
   "outputs": [],
   "source": [
    "!select first_name, extract(year from now()) - extract(year from date_of_birth) as age from person;\n",
    "# or\n",
    "!select first_name, age(now(), date_of_birth) as age from person;"
   ]
  },
  {
   "cell_type": "code",
   "execution_count": null,
   "metadata": {},
   "outputs": [],
   "source": [
    "!select now() + interval '10 years';\n",
    "!select now() + interval '10 months';\n",
    "!select now() + interval '1 day';  # days"
   ]
  }
 ],
 "metadata": {
  "language_info": {
   "name": "python"
  },
  "orig_nbformat": 4
 },
 "nbformat": 4,
 "nbformat_minor": 2
}
